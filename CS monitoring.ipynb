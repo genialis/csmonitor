{
 "cells": [
  {
   "cell_type": "code",
   "execution_count": null,
   "metadata": {},
   "outputs": [],
   "source": [
    "import kpi\n",
    "import resdk\n",
    "import pandas as pd\n",
    "import datetime\n",
    "from ggplot import *\n",
    "from kpi.settings.local import DEPLOYS\n",
    "DEPLOYS.pop('qa2')  # remove QA2 from the stats\n",
    "from local import IGNORE_USERNAMES"
   ]
  },
  {
   "cell_type": "code",
   "execution_count": null,
   "metadata": {},
   "outputs": [],
   "source": [
    "pd.set_option('display.expand_frame_repr', False)  # prints data to full width\n",
    "pd.options.display.max_rows = 999\n",
    "pd.options.display.max_columns = 200"
   ]
  },
  {
   "cell_type": "markdown",
   "metadata": {},
   "source": [
    "Prepare variables and functions"
   ]
  },
  {
   "cell_type": "code",
   "execution_count": null,
   "metadata": {},
   "outputs": [],
   "source": [
    "last_30_days = datetime.date.today() - datetime.timedelta(days=30)  # used for calculating remaining demo days on APP\n",
    "last_24_hrs = datetime.date.today() - datetime.timedelta(days=1)  # used for calculating daily stats\n",
    "last_7_days = datetime.date.today() - datetime.timedelta(days=7)  # used for calculating weekly stats\n",
    "deploys = [DEPLOYS[i]['url'] for i in DEPLOYS]  # used for checking if the deploy is running\n",
    "exclude_usernames = IGNORE_USERNAMES"
   ]
  },
  {
   "cell_type": "markdown",
   "metadata": {},
   "source": [
    "# Prepare data"
   ]
  },
  {
   "cell_type": "markdown",
   "metadata": {},
   "source": [
    "### Fetch data"
   ]
  },
  {
   "cell_type": "code",
   "execution_count": null,
   "metadata": {},
   "outputs": [],
   "source": [
    "raw_samples = kpi.data.platform.sample\n",
    "raw_data = kpi.data.platform.data\n",
    "raw_processes = kpi.data.platform.process\n",
    "raw_users = kpi.data.platform.user"
   ]
  },
  {
   "cell_type": "markdown",
   "metadata": {},
   "source": [
    "### Prepare data for users"
   ]
  },
  {
   "cell_type": "code",
   "execution_count": null,
   "metadata": {},
   "outputs": [],
   "source": [
    "users = []\n",
    "for user in raw_users:\n",
    "    xy = pd.DataFrame({\n",
    "        'id': [user['id']],\n",
    "        'first_name': [user['first_name']],\n",
    "        'last_name': [user['last_name']],\n",
    "        'username': [user['username']],\n",
    "        'email': [user['email']],\n",
    "        'phone_number': [user['phone_number']],\n",
    "        'company': [user['company']],\n",
    "        'department': [user['department']],\n",
    "        'lab': [user['lab']],\n",
    "        'job_title': [user['job_title']],\n",
    "        'location': [user['location']],\n",
    "        'created': [user['created']],\n",
    "        'date_joined': [user['date_joined']],\n",
    "        'modified': [user['modified']],\n",
    "        'deploy': [user['deploy']],\n",
    "    }, columns = ['deploy', 'id', 'first_name', 'last_name', 'username', 'email',\n",
    "                  'phone_number', 'company', 'department', 'lab', 'job_title',\n",
    "                  'location', 'created', 'date_joined', 'modified'])\n",
    "    users.append(xy)\n",
    "\n",
    "users = pd.concat(users)\n",
    "\n",
    "users['demo_ramaining_days'] = last_30_days - users.date_joined"
   ]
  },
  {
   "cell_type": "markdown",
   "metadata": {},
   "source": [
    "### Prepare data for samples"
   ]
  },
  {
   "cell_type": "code",
   "execution_count": null,
   "metadata": {},
   "outputs": [],
   "source": [
    "samples = []\n",
    "for sample in raw_samples:\n",
    "    tags = [i.split(':')[-1] for i in sample['tags']]\n",
    "    xy = pd.DataFrame({\n",
    "        'id': sample['id'],\n",
    "        'username': sample['contributor']['username'],\n",
    "        'first_name': sample['contributor']['first_name'],\n",
    "        'last_name': sample['contributor']['last_name'],\n",
    "        'deploy': sample['deploy'],\n",
    "        'created': sample['created'],\n",
    "        'modified': sample['modified'],\n",
    "        'name': sample['name'],\n",
    "        'tags': tags\n",
    "    },\n",
    "        columns=['id', 'username', 'first_name', 'last_name', 'deploy', 'created', 'modified', 'name', 'tags']\n",
    "    )\n",
    "\n",
    "    samples.append(xy)\n",
    "\n",
    "samples = pd.concat(samples)"
   ]
  },
  {
   "cell_type": "markdown",
   "metadata": {},
   "source": [
    "### Prepare data for data"
   ]
  },
  {
   "cell_type": "code",
   "execution_count": null,
   "metadata": {},
   "outputs": [],
   "source": [
    "data = []\n",
    "for datum in raw_data:\n",
    "    tags = ', '.join(datum['tags'])\n",
    "    \n",
    "    xy = pd.DataFrame({\n",
    "        'id': [datum['id']],\n",
    "        'username': [datum['contributor']['username']],\n",
    "        'first_name': [datum['contributor']['first_name']],\n",
    "        'last_name': [datum['contributor']['last_name']],\n",
    "        'created': [datum['created']],\n",
    "        'deploy': [datum['deploy']],\n",
    "        'started': [datum['started']],\n",
    "        'finished': [datum['finished']],\n",
    "        'modified': [datum['modified']],\n",
    "        'name': [datum['name']],\n",
    "        'process_name': [datum['process_name']],\n",
    "        'process_error': [datum['process_error']],\n",
    "        'process_info': [datum['process_info']],\n",
    "        'process_warning': [datum['process_warning']],\n",
    "        'process_progress': [datum['process_progress']],\n",
    "        'status': [datum['status']],\n",
    "        'tags': tags\n",
    "    },\n",
    "        columns=['id', 'username', 'first_name', 'last_name', 'created', 'deploy',\n",
    "            'started', 'finished', 'modified', 'name', 'process_name', 'process_error',\n",
    "            'process_info', 'process_warning', 'process_progress', 'status', 'tags']\n",
    "    )\n",
    "    \n",
    "    data.append(xy)\n",
    "\n",
    "data = pd.concat(data)"
   ]
  },
  {
   "cell_type": "markdown",
   "metadata": {},
   "source": [
    "### Prepare data for processes"
   ]
  },
  {
   "cell_type": "code",
   "execution_count": null,
   "metadata": {},
   "outputs": [],
   "source": [
    "processes = []\n",
    "for process in raw_processes:\n",
    "    xy = pd.DataFrame({\n",
    "        'username': [process['contributor']['username']],\n",
    "        'first_name': [process['contributor']['first_name']],\n",
    "        'last_name': [process['contributor']['last_name']],\n",
    "        'created': [process['created']],\n",
    "        'modified': [process['modified']],\n",
    "        'deploy': [process['deploy']],\n",
    "        'process_name': [process['name']],\n",
    "        'type': [process['version']],\n",
    "        'version': [process['version']]\n",
    "    },\n",
    "        columns=['username', 'first_name', 'last_name', 'deploy', 'created', 'modified', 'process_name', 'type', 'version']\n",
    "    )\n",
    "    processes.append(xy)\n",
    "\n",
    "processes = pd.concat(processes)"
   ]
  },
  {
   "cell_type": "markdown",
   "metadata": {},
   "source": [
    "### Are all the deploys up and running?"
   ]
  },
  {
   "cell_type": "code",
   "execution_count": null,
   "metadata": {},
   "outputs": [],
   "source": [
    "for deploy in deploys:\n",
    "    try:\n",
    "        res = resdk.Resolwe(url=deploy)\n",
    "        res.user.count()\n",
    "        print(\"[OK] Connected to {dpl}\".format(dpl=deploy))\n",
    "    except:\n",
    "        print(\"[FAIL] Connected to {dpl}\".format(dpl=deploy))"
   ]
  },
  {
   "cell_type": "markdown",
   "metadata": {},
   "source": [
    "### Which users are in the on-boarding period, and how many days? Have them ordered by time so that it helps the management."
   ]
  },
  {
   "cell_type": "code",
   "execution_count": null,
   "metadata": {
    "scrolled": false
   },
   "outputs": [],
   "source": [
    "onboard_users = users[users.username.isin(exclude_usernames) == False]\n",
    "onboard_users = onboard_users[onboard_users.date_joined >= last_30_days][['demo_ramaining_days', 'deploy', 'date_joined', 'username', 'first_name',\n",
    "                                          'last_name', 'email']].sort_index(axis=0, ascending=False)\n",
    "onboard_users"
   ]
  },
  {
   "cell_type": "markdown",
   "metadata": {},
   "source": [
    "### Have users exceeded the allocated sample number?"
   ]
  },
  {
   "cell_type": "code",
   "execution_count": null,
   "metadata": {
    "scrolled": true
   },
   "outputs": [],
   "source": [
    "samples[['username', 'tags']] \\\n",
    "    .groupby(['username', 'tags']) \\\n",
    "    .size() \\\n",
    "    .reset_index(name='num_samples') \\\n",
    "    .sort_values(['username',], ascending = True)"
   ]
  },
  {
   "cell_type": "markdown",
   "metadata": {},
   "source": [
    "### What were crucial events on all deploys and communities in the last 24  hours (new samples, new users, failed samples)?"
   ]
  },
  {
   "cell_type": "markdown",
   "metadata": {},
   "source": [
    "##### Users joined in the last 24 hours"
   ]
  },
  {
   "cell_type": "code",
   "execution_count": null,
   "metadata": {},
   "outputs": [],
   "source": [
    "users[users.date_joined >= last_24_hrs]"
   ]
  },
  {
   "cell_type": "markdown",
   "metadata": {},
   "source": [
    "##### Samples created in the last 24 hours."
   ]
  },
  {
   "cell_type": "code",
   "execution_count": null,
   "metadata": {
    "scrolled": true
   },
   "outputs": [],
   "source": [
    "samples[samples.created >= last_24_hrs].sort_values(by=['created'], ascending=False)"
   ]
  },
  {
   "cell_type": "markdown",
   "metadata": {},
   "source": [
    "##### Samples modified in the last 24 hours."
   ]
  },
  {
   "cell_type": "code",
   "execution_count": null,
   "metadata": {
    "scrolled": true
   },
   "outputs": [],
   "source": [
    "samples[samples.modified >= last_24_hrs].sort_values(by=['modified'], ascending=False)"
   ]
  },
  {
   "cell_type": "markdown",
   "metadata": {},
   "source": [
    "### Are there any active users or analyses that would suffer from sudden loss of service (e.g. at re-deploy)."
   ]
  },
  {
   "cell_type": "markdown",
   "metadata": {},
   "source": [
    "What is the status of data objects?"
   ]
  },
  {
   "cell_type": "code",
   "execution_count": null,
   "metadata": {
    "scrolled": true
   },
   "outputs": [],
   "source": [
    "pd.DataFrame(data.status.value_counts()).rename({'OK': 'Done', 'ER': 'Error', 'RE': 'Resolving', 'WT': 'Waiting', 'PR': 'Processing'})"
   ]
  },
  {
   "cell_type": "markdown",
   "metadata": {},
   "source": [
    "Objects that are waiting or being processed."
   ]
  },
  {
   "cell_type": "code",
   "execution_count": null,
   "metadata": {},
   "outputs": [],
   "source": [
    "data[data.status.isin(['WT', 'PR', 'RE'])].sort_values(by=['created', 'deploy'], ascending=False)"
   ]
  },
  {
   "cell_type": "code",
   "execution_count": null,
   "metadata": {},
   "outputs": [],
   "source": []
  },
  {
   "cell_type": "markdown",
   "metadata": {},
   "source": [
    "### What users have not generated any new objects in an arbitrary period of time (e.g. last week/month)?"
   ]
  },
  {
   "cell_type": "markdown",
   "metadata": {},
   "source": [
    "Which users have not created any objects in the past 7 days. Sorted by date joined."
   ]
  },
  {
   "cell_type": "code",
   "execution_count": null,
   "metadata": {
    "scrolled": true
   },
   "outputs": [],
   "source": [
    "list_of_users = pd.DataFrame(users.username.unique(), columns=['username'])\n",
    "list_of_users = users[['username', 'first_name', 'last_name', 'date_joined', 'deploy']]\n",
    "obj_count_users = pd.DataFrame(data[data.created >= last_7_days].username.value_counts())\n",
    "obj_count_users.index.name = 'nm'\n",
    "obj_count_users.reset_index(inplace=True)\n",
    "obj_count_users.columns = ['username', 'count']\n",
    "week_obj_count = pd.merge(list_of_users, obj_count_users, on='username', how='outer')\n",
    "week_obj_count = week_obj_count[week_obj_count['count'].isna()] \\\n",
    "    .sort_values(by=['deploy', 'date_joined', 'username'], ascending=False)[['username', 'first_name', 'last_name', 'deploy', 'count']]\n",
    "week_obj_count[week_obj_count['username'].isin(exclude_usernames) == False]"
   ]
  },
  {
   "cell_type": "markdown",
   "metadata": {},
   "source": [
    "Which users have not created any objects in the past 30 days. Sorted by date joined."
   ]
  },
  {
   "cell_type": "code",
   "execution_count": null,
   "metadata": {},
   "outputs": [],
   "source": [
    "list_of_users = pd.DataFrame(users.username.unique(), columns=['username'])\n",
    "list_of_users = users[['username', 'first_name', 'last_name', 'date_joined', 'deploy']]\n",
    "obj_count_users = pd.DataFrame(data[data.created >= last_30_days].username.value_counts())\n",
    "obj_count_users.index.name = 'nm'\n",
    "obj_count_users.reset_index(inplace=True)\n",
    "obj_count_users.columns = ['username', 'count']\n",
    "week_obj_count = pd.merge(list_of_users, obj_count_users, on='username', how='outer')\n",
    "week_obj_count = week_obj_count[week_obj_count['count'].isna()] \\\n",
    "    .sort_values(by=['deploy', 'date_joined', 'username'], ascending=False)[['username', 'first_name', 'last_name', 'deploy', 'count']]\n",
    "week_obj_count[week_obj_count['username'].isin(exclude_usernames) == False]"
   ]
  },
  {
   "cell_type": "markdown",
   "metadata": {},
   "source": [
    "### Which processes are being run by which user?"
   ]
  },
  {
   "cell_type": "code",
   "execution_count": null,
   "metadata": {
    "scrolled": true
   },
   "outputs": [],
   "source": [
    "ct = data[data.username.isin(exclude_usernames) == False]\n",
    "pd.crosstab(ct['username'], ct['process_name'])"
   ]
  },
  {
   "cell_type": "markdown",
   "metadata": {},
   "source": [
    "### How many new users or new samples in an arbitrary period of time per selected deploy/community?"
   ]
  },
  {
   "cell_type": "markdown",
   "metadata": {},
   "source": [
    "### Average and median number of samples per user."
   ]
  },
  {
   "cell_type": "code",
   "execution_count": null,
   "metadata": {
    "scrolled": false
   },
   "outputs": [],
   "source": [
    "mean_smp_by_usr = samples[samples.username.isin(exclude_usernames) == False]\n",
    "mean_smp_by_usr = mean_smp_by_usr.groupby(['username', 'deploy']).size().to_frame(name='num_samples').reset_index()\n",
    "mean_smp_by_usr_stats = pd.DataFrame({\n",
    "    'x': [mean_smp_by_usr.num_samples.mean(), mean_smp_by_usr.num_samples.median()],\n",
    "    'y': [8, 7],\n",
    "    'stat': ['mean', 'median'] \n",
    "})\n",
    "\n",
    "ggplot(aes(x='num_samples'), data=mean_smp_by_usr) + \\\n",
    "    theme_bw() + \\\n",
    "    ggtitle('Samples per user') + \\\n",
    "    geom_histogram(binwidth=5) + \\\n",
    "    geom_vline(x=mean_smp_by_usr_stats.x)"
   ]
  },
  {
   "cell_type": "markdown",
   "metadata": {},
   "source": [
    "### Average and median number of samples in the trial period per user."
   ]
  },
  {
   "cell_type": "markdown",
   "metadata": {},
   "source": [
    "No mean/median number of samples for trial users yet. When there are more users, a histogram or a statistic will be more appropriate."
   ]
  },
  {
   "cell_type": "code",
   "execution_count": null,
   "metadata": {},
   "outputs": [],
   "source": [
    "mean_smp_by_onboardusr = samples[samples.username.isin(exclude_usernames) == False]\n",
    "mean_smp_by_onboardusr = mean_smp_by_onboardusr[mean_smp_by_onboardusr.username.isin(onboard_users.username) == True]\n",
    "mean_smp_by_onboardusr = mean_smp_by_onboardusr.groupby(['username', 'deploy']).size().to_frame(name='num_samples').reset_index()\n",
    "mean_smp_by_onboardusr"
   ]
  },
  {
   "cell_type": "markdown",
   "metadata": {},
   "source": [
    "### Average and median size of a sample in selected community."
   ]
  },
  {
   "cell_type": "markdown",
   "metadata": {},
   "source": [
    "Mean number of samples per user by deploy-tag combination."
   ]
  },
  {
   "cell_type": "code",
   "execution_count": null,
   "metadata": {},
   "outputs": [],
   "source": [
    "smp_by_com = samples[samples.username.isin(exclude_usernames) == False]\n",
    "smp_by_com.groupby(['deploy', 'tags', 'username']).size().groupby(['deploy', 'tags']).mean()"
   ]
  },
  {
   "cell_type": "markdown",
   "metadata": {},
   "source": [
    "Median number of samples per user by deploy-tag combination."
   ]
  },
  {
   "cell_type": "code",
   "execution_count": null,
   "metadata": {},
   "outputs": [],
   "source": [
    "smp_by_com.groupby(['deploy', 'tags', 'username']).size().groupby(['deploy', 'tags']).median()"
   ]
  },
  {
   "cell_type": "markdown",
   "metadata": {},
   "source": [
    "### How many active users within an arbitrary period of time, where active is defined as “on the app” in that period."
   ]
  },
  {
   "cell_type": "markdown",
   "metadata": {},
   "source": [
    "Users that have created or modified samples or data objects in the last 30 days."
   ]
  },
  {
   "cell_type": "code",
   "execution_count": null,
   "metadata": {},
   "outputs": [],
   "source": [
    "active_usr_30d = samples[samples.created >= last_30_days]\n",
    "active_usr_30d = active_usr_30d[active_usr_30d.username.isin(exclude_usernames) == False]\n",
    "active_usr_30d.groupby(['username']).size().reset_index(name='num_samples')"
   ]
  },
  {
   "cell_type": "markdown",
   "metadata": {},
   "source": [
    "Users that have created or modified data objects in the last 30 days."
   ]
  },
  {
   "cell_type": "code",
   "execution_count": null,
   "metadata": {
    "scrolled": true
   },
   "outputs": [],
   "source": [
    "data_usr_30d = data[(data.created >= last_30_days) | (data.modified >= last_30_days)]\n",
    "data_usr_30d = data_usr_30d[data_usr_30d.username.isin(exclude_usernames) == False]\n",
    "data_usr_30d.groupby(['username']).size().reset_index(name='num_data')"
   ]
  },
  {
   "cell_type": "markdown",
   "metadata": {},
   "source": [
    "### What users have not accessed the software in an arbitrary period of time (e.g. last week/month)?"
   ]
  }
 ],
 "metadata": {
  "kernelspec": {
   "display_name": "Python 3",
   "language": "python",
   "name": "python3"
  },
  "language_info": {
   "codemirror_mode": {
    "name": "ipython",
    "version": 3
   },
   "file_extension": ".py",
   "mimetype": "text/x-python",
   "name": "python",
   "nbconvert_exporter": "python",
   "pygments_lexer": "ipython3",
   "version": "3.6.4"
  },
  "widgets": {
   "application/vnd.jupyter.widget-state+json": {
    "state": {},
    "version_major": 2,
    "version_minor": 0
   }
  }
 },
 "nbformat": 4,
 "nbformat_minor": 2
}
